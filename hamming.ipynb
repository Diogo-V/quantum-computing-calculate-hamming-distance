{
 "cells": [
  {
   "cell_type": "code",
   "execution_count": null,
   "metadata": {},
   "outputs": [],
   "source": [
    "from qiskit import QuantumCircuit, Aer, QuantumRegister, ClassicalRegister, execute\n",
    "from qiskit.circuit.library.standard_gates import XGate\n",
    "from qiskit.visualization import plot_histogram\n",
    "import numpy as np"
   ]
  },
  {
   "cell_type": "code",
   "execution_count": null,
   "metadata": {},
   "outputs": [],
   "source": [
    "qc = QuantumCircuit(2, 4)\n",
    "\n",
    "qc.draw('mpl')"
   ]
  },
  {
   "cell_type": "code",
   "execution_count": null,
   "metadata": {},
   "outputs": [],
   "source": [
    "qreg = QuantumRegister(2, 'qreg')\n",
    "qc.add_register(qreg)\n",
    "qc.draw('mpl')"
   ]
  },
  {
   "cell_type": "code",
   "execution_count": null,
   "metadata": {},
   "outputs": [],
   "source": [
    "qc.h(1)\n",
    "qc.draw('mpl')"
   ]
  },
  {
   "cell_type": "code",
   "execution_count": null,
   "metadata": {},
   "outputs": [],
   "source": [
    "qc.measure(range(4), range(4))\n",
    "qc.draw('mpl')"
   ]
  },
  {
   "cell_type": "code",
   "execution_count": null,
   "metadata": {},
   "outputs": [],
   "source": [
    "backend = Aer.get_backend('qasm_simulator')  # Builds backend\n",
    "\n",
    "result = execute(qc, backend, shots = 1000).result()  # 1000 iterations\n",
    "\n",
    "# Plot results\n",
    "counts = result.get_counts()\n",
    "plot_histogram(counts)"
   ]
  },
  {
   "cell_type": "code",
   "execution_count": null,
   "metadata": {},
   "outputs": [],
   "source": [
    "# Creating the circuit\n",
    "cx_demo = QuantumCircuit(2, 2)\n",
    "cx_demo.h(range(2))\n",
    "cx_demo.cx(0, 1)\n",
    "cx_demo.measure(range(2), range(2))\n",
    "display(cx_demo.draw('mpl'))\n",
    "\n",
    "# Simulation and visualization\n",
    "counts_cx = execute(cx_demo, backend).result().get_counts()\n",
    "plot_histogram(counts_cx)"
   ]
  },
  {
   "cell_type": "code",
   "execution_count": null,
   "metadata": {},
   "outputs": [],
   "source": [
    "# Creating the circuit\n",
    "ccx_demo = QuantumCircuit(3, 3)\n",
    "ccx_demo.h(range(3))\n",
    "ccx_demo.ccx(0, 1, 2)\n",
    "ccx_demo.measure(range(3), range(3))\n",
    "display(ccx_demo.draw('mpl'))\n",
    "\n",
    "# Simulation and visualization\n",
    "counts_ccx = execute(ccx_demo, backend).result().get_counts()\n",
    "plot_histogram(counts_ccx)"
   ]
  },
  {
   "cell_type": "code",
   "execution_count": null,
   "metadata": {},
   "outputs": [],
   "source": [
    "# The number of qubits of the d register and the number of bits of the result register will follow the formula below\n",
    "N = 3\n",
    "n = int(np.ceil(np.log2(N+1)))\n",
    "\n",
    "a = QuantumRegister(N, 'a')\n",
    "b = QuantumRegister(N, 'b')\n",
    "d = QuantumRegister(n, 'd')\n",
    "\n",
    "result = ClassicalRegister(n, 'result')"
   ]
  },
  {
   "cell_type": "code",
   "execution_count": null,
   "metadata": {},
   "outputs": [],
   "source": [
    "# Quantum Circuit\n",
    "qc_hamming = QuantumCircuit()\n",
    "qc_hamming.add_register(a)\n",
    "qc_hamming.add_register(b)\n",
    "qc_hamming.add_register(d)\n",
    "qc_hamming.add_register(result)\n",
    "\n",
    "qc_hamming.barrier()\n",
    "\n",
    "qc_hamming.draw('mpl')"
   ]
  },
  {
   "cell_type": "code",
   "execution_count": null,
   "metadata": {},
   "outputs": [],
   "source": [
    "[qc_hamming.h(a[i]) for i in range(3)]\n",
    "[qc_hamming.h(b[i]) for i in range(3)]\n",
    "\n",
    "qc_hamming.barrier()\n",
    "\n",
    "qc_hamming.draw('mpl')"
   ]
  },
  {
   "cell_type": "code",
   "execution_count": null,
   "metadata": {},
   "outputs": [],
   "source": [
    "for i in range(3):\n",
    "    qc_hamming.cx(a[i], b[i])\n",
    "qc_hamming.barrier()\n",
    "\n",
    "qc_hamming.draw('mpl')"
   ]
  },
  {
   "cell_type": "code",
   "execution_count": null,
   "metadata": {},
   "outputs": [],
   "source": [
    "for i in range(3):\n",
    "    for j in range(n, 0, -1):\n",
    "        cnx_gate = XGate().control(j)\n",
    "        qc_hamming.append(cnx_gate, [b[i]]+ d[0:j])\n",
    "\n",
    "qc_hamming.draw('mpl')"
   ]
  },
  {
   "cell_type": "code",
   "execution_count": null,
   "metadata": {},
   "outputs": [],
   "source": [
    "qc_hamming.measure(d, result)\n",
    "display(qc_hamming.draw('mpl'))\n",
    "\n",
    "# Simulate the circuit\n",
    "backend = Aer.get_backend('qasm_simulator')\n",
    "counts = execute(qc_hamming, backend, shots = 4096).result().get_counts()\n",
    "plot_histogram(counts)"
   ]
  },
  {
   "cell_type": "code",
   "execution_count": null,
   "metadata": {},
   "outputs": [],
   "source": [
    "def q_hamming_distance(N):\n",
    "    '''\n",
    "    `N`: Number of qubits of the quantum registers.\n",
    "    '''\n",
    "    # Number of qubits of the d register\n",
    "    n = int(np.ceil(np.log2(N+1)))\n",
    "    \n",
    "    a = QuantumRegister(N, 'a')\n",
    "    b = QuantumRegister(N, 'b')\n",
    "    d = QuantumRegister(n, 'd')\n",
    "    \n",
    "    # Quantum Circuit\n",
    "    qc_hamming = QuantumCircuit()\n",
    "    qc_hamming.add_register(a)\n",
    "    qc_hamming.add_register(b)\n",
    "    qc_hamming.add_register(d)\n",
    "    \n",
    "    qc_hamming.barrier()\n",
    "    \n",
    "    for i in range(N):\n",
    "        qc_hamming.cx(a[i], b[i])\n",
    "    qc_hamming.barrier()\n",
    "\n",
    "    for i in range(N):\n",
    "        for j in range(n, 0, -1):\n",
    "            cnx_gate = XGate().control(j)\n",
    "            qc_hamming.append(cnx_gate, [b[i]]+ d[0:j])\n",
    "    \n",
    "    return qc_hamming"
   ]
  },
  {
   "cell_type": "code",
   "execution_count": null,
   "metadata": {},
   "outputs": [],
   "source": [
    "qc = QuantumCircuit(6, 2)\n",
    "qc.initialize([0.5, 0.5, 0.5, 0.5], range(2))\n",
    "qc.initialize([1/np.sqrt(2), 0, 0, 1/np.sqrt(2)], range(2, 4))\n",
    "\n",
    "qc.append(q_hamming_distance(2), range(6))\n",
    "\n",
    "qc.measure(range(4, 6), range(2))\n",
    "\n",
    "qc.draw('mpl')\n",
    "\n",
    "backend = Aer.get_backend('qasm_simulator')\n",
    "counts = execute(qc, backend, shots = 4096).result().get_counts()\n",
    "plot_histogram(counts)"
   ]
  }
 ],
 "metadata": {
  "language_info": {
   "name": "python"
  },
  "orig_nbformat": 4
 },
 "nbformat": 4,
 "nbformat_minor": 2
}
